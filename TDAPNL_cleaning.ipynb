{
 "cells": [
  {
   "cell_type": "code",
   "execution_count": null,
   "id": "e006e188",
   "metadata": {},
   "outputs": [],
   "source": [
    "import pandas as pd\n",
    "import os\n",
    "import datetime"
   ]
  },
  {
   "cell_type": "code",
   "execution_count": null,
   "id": "1bbeae59",
   "metadata": {},
   "outputs": [],
   "source": [
    "def sort_categories(security):\n",
    "    if 'Call' in security:\n",
    "        return 'call'\n",
    "    elif 'Put' in security:\n",
    "        return 'put'\n",
    "    else:\n",
    "        return 'stock'\n",
    "    \n",
    "def get_symbol(security, category):\n",
    "    if category=='stock':\n",
    "        return security.split()[-1][1:-1]\n",
    "    else:\n",
    "        return security\n",
    "    \n",
    "def get_underlying(symbol):\n",
    "    try:\n",
    "        underlying = symbol.split()[0]\n",
    "        return underlying\n",
    "    except BaseException:\n",
    "        return\n",
    "    \n",
    "def get_hold_duration(open_date, close_date):\n",
    "    t0 = datetime.datetime.strptime(open_date, '%Y-%m-%d %H:%M:%S')\n",
    "    t1 = datetime.datetime.strptime(close_date, '%Y-%m-%d %H:%M:%S')\n",
    "    return (t1-t0)"
   ]
  },
  {
   "cell_type": "code",
   "execution_count": null,
   "id": "968c9672",
   "metadata": {},
   "outputs": [],
   "source": [
    "data_path = './data'\n",
    "files = ['RC_869434357_20150101_20151231.xlsx', 'RC_869434357_20160101_20161231.xlsx', 'RC_869434357_20170101_20171231.xlsx',\n",
    "         'RC_869434357_20180101_20181231.xlsx','RC_869434357_20190101_20191231.xlsx', 'RC_869434357_20200101_20201231.xlsx', \n",
    "         'RC_869434357_20210101_20210501.xlsx']   "
   ]
  },
  {
   "cell_type": "code",
   "execution_count": null,
   "id": "fb4d5314",
   "metadata": {},
   "outputs": [],
   "source": [
    "data = []\n",
    "for i in files[:3]:\n",
    "    file_path = os.path.join(data_path, i)\n",
    "    data.append(pd.read_excel(file_path, dtype='str')[:-1])"
   ]
  },
  {
   "cell_type": "code",
   "execution_count": null,
   "id": "47bc6b3c",
   "metadata": {},
   "outputs": [],
   "source": [
    "df = pd.concat(data)"
   ]
  },
  {
   "cell_type": "code",
   "execution_count": null,
   "id": "f5af137b",
   "metadata": {},
   "outputs": [],
   "source": [
    "df.columns = [i.lower().replace(' ', '_') for i in df.columns]\n",
    "# df = df[df['trans_type'] != 'Wash Sale Adj']\n",
    "# df = df[df['trans_type'] != 'Short WS Adj']\n",
    "df.head()"
   ]
  },
  {
   "cell_type": "code",
   "execution_count": null,
   "id": "9e2a6095",
   "metadata": {},
   "outputs": [],
   "source": [
    "df.shape"
   ]
  },
  {
   "cell_type": "code",
   "execution_count": null,
   "id": "6e0608ab",
   "metadata": {},
   "outputs": [],
   "source": [
    "df['category'] = df['security'].apply(lambda x: sort_categories(x))\n",
    "df['symbol'] = df.apply(lambda x: get_symbol(x.security, x.category), axis=1)\n",
    "df['underlying'] = df['symbol'].apply(lambda x: get_underlying(x))\n",
    "df['hold_duration'] = df.apply(lambda x: get_hold_duration(x.open_date, x.close_date), axis=1)\n",
    "df['hold_duration'] = df.apply(lambda x: datetime.timedelta(0) if x.trans_type=='Wash Sale Adj' else x.hold_duration, axis=1)\n",
    "df['hold_duration'] = df.apply(lambda x: datetime.timedelta(0) if x.trans_type=='Short WS Adj' else x.hold_duration, axis=1)"
   ]
  },
  {
   "cell_type": "code",
   "execution_count": null,
   "id": "c948a1ac",
   "metadata": {},
   "outputs": [],
   "source": [
    "df.to_excel('./data/performance.xlsx', index=False)"
   ]
  },
  {
   "cell_type": "code",
   "execution_count": null,
   "id": "8097216b",
   "metadata": {},
   "outputs": [],
   "source": []
  }
 ],
 "metadata": {
  "kernelspec": {
   "display_name": "Python 3",
   "language": "python",
   "name": "python3"
  },
  "language_info": {
   "codemirror_mode": {
    "name": "ipython",
    "version": 3
   },
   "file_extension": ".py",
   "mimetype": "text/x-python",
   "name": "python",
   "nbconvert_exporter": "python",
   "pygments_lexer": "ipython3",
   "version": "3.8.8"
  }
 },
 "nbformat": 4,
 "nbformat_minor": 5
}
