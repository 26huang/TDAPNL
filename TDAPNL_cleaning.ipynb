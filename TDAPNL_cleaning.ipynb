{
 "cells": [
  {
   "cell_type": "code",
   "execution_count": 56,
   "id": "d379e71d",
   "metadata": {},
   "outputs": [],
   "source": [
    "import pandas as pd\n",
    "import os\n",
    "import datetime"
   ]
  },
  {
   "cell_type": "code",
   "execution_count": 57,
   "id": "96ab17e0",
   "metadata": {},
   "outputs": [],
   "source": [
    "def sort_categories(security):\n",
    "    if 'Call' in security:\n",
    "        return 'call'\n",
    "    elif 'Put' in security:\n",
    "        return 'put'\n",
    "    else:\n",
    "        return 'stock'\n",
    "    \n",
    "def get_symbol(security, category):\n",
    "    if category=='stock':\n",
    "        return security.split()[-1][1:-1]\n",
    "    else:\n",
    "        return security\n",
    "    \n",
    "def get_underlying(symbol):\n",
    "    try:\n",
    "        underlying = symbol.split()[0]\n",
    "        return underlying\n",
    "    except BaseException:\n",
    "        return\n",
    "    \n",
    "def get_hold_duration(open_date, close_date):\n",
    "    t0 = datetime.datetime.strptime(open_date, '%Y-%m-%d %H:%M:%S')\n",
    "    t1 = datetime.datetime.strptime(close_date, '%Y-%m-%d %H:%M:%S')\n",
    "    return (t1-t0)"
   ]
  },
  {
   "cell_type": "code",
   "execution_count": 58,
   "id": "ed4e2d36",
   "metadata": {},
   "outputs": [],
   "source": [
    "data_path = './data'\n",
    "files = ['RC_869434357_20150101_20151231.xlsx', 'RC_869434357_20160101_20161231.xlsx', 'RC_869434357_20170101_20171231.xlsx',\n",
    "         'RC_869434357_20180101_20181231.xlsx','RC_869434357_20190101_20191231.xlsx', 'RC_869434357_20200101_20201231.xlsx', \n",
    "         'RC_869434357_20210101_20210501.xlsx']   "
   ]
  },
  {
   "cell_type": "code",
   "execution_count": 59,
   "id": "2868a67a",
   "metadata": {},
   "outputs": [
    {
     "name": "stderr",
     "output_type": "stream",
     "text": [
      "/Users/macuser/anaconda3/envs/p38/lib/python3.8/site-packages/openpyxl/styles/stylesheet.py:221: UserWarning: Workbook contains no default style, apply openpyxl's default\n",
      "  warn(\"Workbook contains no default style, apply openpyxl's default\")\n"
     ]
    }
   ],
   "source": [
    "data = []\n",
    "for i in files[:3]:\n",
    "    file_path = os.path.join(data_path, i)\n",
    "    data.append(pd.read_excel(file_path, dtype='str')[:-1])"
   ]
  },
  {
   "cell_type": "code",
   "execution_count": 60,
   "id": "99b06254",
   "metadata": {},
   "outputs": [],
   "source": [
    "df = pd.concat(data)"
   ]
  },
  {
   "cell_type": "code",
   "execution_count": 61,
   "id": "a0a41b66",
   "metadata": {},
   "outputs": [
    {
     "data": {
      "text/html": [
       "<div>\n",
       "<style scoped>\n",
       "    .dataframe tbody tr th:only-of-type {\n",
       "        vertical-align: middle;\n",
       "    }\n",
       "\n",
       "    .dataframe tbody tr th {\n",
       "        vertical-align: top;\n",
       "    }\n",
       "\n",
       "    .dataframe thead th {\n",
       "        text-align: right;\n",
       "    }\n",
       "</style>\n",
       "<table border=\"1\" class=\"dataframe\">\n",
       "  <thead>\n",
       "    <tr style=\"text-align: right;\">\n",
       "      <th></th>\n",
       "      <th>security</th>\n",
       "      <th>trans_type</th>\n",
       "      <th>qty</th>\n",
       "      <th>open_date</th>\n",
       "      <th>adj_cost</th>\n",
       "      <th>close_date</th>\n",
       "      <th>adj_proceeds</th>\n",
       "      <th>gain_adj</th>\n",
       "      <th>adj_gain($)</th>\n",
       "      <th>adj_gain(%)</th>\n",
       "      <th>term</th>\n",
       "    </tr>\n",
       "  </thead>\n",
       "  <tbody>\n",
       "    <tr>\n",
       "      <th>0</th>\n",
       "      <td>APPLE INC (AAPL)</td>\n",
       "      <td>Sell.FIFO</td>\n",
       "      <td>28</td>\n",
       "      <td>2015-10-02 00:00:00</td>\n",
       "      <td>3043.51</td>\n",
       "      <td>2015-10-09 00:00:00</td>\n",
       "      <td>3128.75</td>\n",
       "      <td>NaN</td>\n",
       "      <td>85.24</td>\n",
       "      <td>2.8</td>\n",
       "      <td>Short-term</td>\n",
       "    </tr>\n",
       "    <tr>\n",
       "      <th>1</th>\n",
       "      <td>ADOBE INC (ADBE)</td>\n",
       "      <td>Sell.FIFO</td>\n",
       "      <td>56</td>\n",
       "      <td>2015-12-09 00:00:00</td>\n",
       "      <td>5015.84</td>\n",
       "      <td>2015-12-17 00:00:00</td>\n",
       "      <td>5305.55</td>\n",
       "      <td>NaN</td>\n",
       "      <td>289.71</td>\n",
       "      <td>5.78</td>\n",
       "      <td>Short-term</td>\n",
       "    </tr>\n",
       "    <tr>\n",
       "      <th>2</th>\n",
       "      <td>ADOBE INC (ADBE)</td>\n",
       "      <td>Sell.FIFO</td>\n",
       "      <td>45</td>\n",
       "      <td>2015-12-10 00:00:00</td>\n",
       "      <td>3997.17</td>\n",
       "      <td>2015-12-17 00:00:00</td>\n",
       "      <td>4263.38</td>\n",
       "      <td>NaN</td>\n",
       "      <td>266.21</td>\n",
       "      <td>6.66</td>\n",
       "      <td>Short-term</td>\n",
       "    </tr>\n",
       "    <tr>\n",
       "      <th>3</th>\n",
       "      <td>ANALOG DEVICES INC (ADI)</td>\n",
       "      <td>Sell.FIFO</td>\n",
       "      <td>45</td>\n",
       "      <td>2015-11-23 00:00:00</td>\n",
       "      <td>2569.23</td>\n",
       "      <td>2015-11-24 00:00:00</td>\n",
       "      <td>2651.04</td>\n",
       "      <td>NaN</td>\n",
       "      <td>81.81</td>\n",
       "      <td>3.18</td>\n",
       "      <td>Short-term</td>\n",
       "    </tr>\n",
       "    <tr>\n",
       "      <th>4</th>\n",
       "      <td>ANALOG DEVICES INC (ADI)</td>\n",
       "      <td>Sell.FIFO</td>\n",
       "      <td>45</td>\n",
       "      <td>2015-11-23 00:00:00</td>\n",
       "      <td>2569.23</td>\n",
       "      <td>2015-11-24 00:00:00</td>\n",
       "      <td>2640.03</td>\n",
       "      <td>NaN</td>\n",
       "      <td>70.8</td>\n",
       "      <td>2.76</td>\n",
       "      <td>Short-term</td>\n",
       "    </tr>\n",
       "  </tbody>\n",
       "</table>\n",
       "</div>"
      ],
      "text/plain": [
       "                   security trans_type qty            open_date adj_cost  \\\n",
       "0          APPLE INC (AAPL)  Sell.FIFO  28  2015-10-02 00:00:00  3043.51   \n",
       "1          ADOBE INC (ADBE)  Sell.FIFO  56  2015-12-09 00:00:00  5015.84   \n",
       "2          ADOBE INC (ADBE)  Sell.FIFO  45  2015-12-10 00:00:00  3997.17   \n",
       "3  ANALOG DEVICES INC (ADI)  Sell.FIFO  45  2015-11-23 00:00:00  2569.23   \n",
       "4  ANALOG DEVICES INC (ADI)  Sell.FIFO  45  2015-11-23 00:00:00  2569.23   \n",
       "\n",
       "            close_date adj_proceeds gain_adj adj_gain($) adj_gain(%)  \\\n",
       "0  2015-10-09 00:00:00      3128.75      NaN       85.24         2.8   \n",
       "1  2015-12-17 00:00:00      5305.55      NaN      289.71        5.78   \n",
       "2  2015-12-17 00:00:00      4263.38      NaN      266.21        6.66   \n",
       "3  2015-11-24 00:00:00      2651.04      NaN       81.81        3.18   \n",
       "4  2015-11-24 00:00:00      2640.03      NaN        70.8        2.76   \n",
       "\n",
       "         term  \n",
       "0  Short-term  \n",
       "1  Short-term  \n",
       "2  Short-term  \n",
       "3  Short-term  \n",
       "4  Short-term  "
      ]
     },
     "execution_count": 61,
     "metadata": {},
     "output_type": "execute_result"
    }
   ],
   "source": [
    "df.columns = [i.lower().replace(' ', '_') for i in df.columns]\n",
    "# df = df[df['trans_type'] != 'Wash Sale Adj']\n",
    "# df = df[df['trans_type'] != 'Short WS Adj']\n",
    "df.head()"
   ]
  },
  {
   "cell_type": "code",
   "execution_count": 62,
   "id": "da7e88ad",
   "metadata": {},
   "outputs": [
    {
     "data": {
      "text/plain": [
       "(1163, 11)"
      ]
     },
     "execution_count": 62,
     "metadata": {},
     "output_type": "execute_result"
    }
   ],
   "source": [
    "df.shape"
   ]
  },
  {
   "cell_type": "code",
   "execution_count": 63,
   "id": "81427318",
   "metadata": {},
   "outputs": [],
   "source": [
    "df['category'] = df['security'].apply(lambda x: sort_categories(x))\n",
    "df['symbol'] = df.apply(lambda x: get_symbol(x.security, x.category), axis=1)\n",
    "df['underlying'] = df['symbol'].apply(lambda x: get_underlying(x))\n",
    "df['hold_duration'] = df.apply(lambda x: get_hold_duration(x.open_date, x.close_date), axis=1)\n",
    "df['hold_duration'] = df.apply(lambda x: datetime.timedelta(0) if x.trans_type=='Wash Sale Adj' else x.hold_duration, axis=1)"
   ]
  },
  {
   "cell_type": "code",
   "execution_count": 64,
   "id": "618dcb95",
   "metadata": {},
   "outputs": [],
   "source": [
    "df.to_excel('./data/performance.xlsx', index=False)"
   ]
  },
  {
   "cell_type": "code",
   "execution_count": null,
   "id": "99e4500e",
   "metadata": {},
   "outputs": [],
   "source": []
  }
 ],
 "metadata": {
  "kernelspec": {
   "display_name": "Python 3",
   "language": "python",
   "name": "python3"
  },
  "language_info": {
   "codemirror_mode": {
    "name": "ipython",
    "version": 3
   },
   "file_extension": ".py",
   "mimetype": "text/x-python",
   "name": "python",
   "nbconvert_exporter": "python",
   "pygments_lexer": "ipython3",
   "version": "3.8.8"
  }
 },
 "nbformat": 4,
 "nbformat_minor": 5
}
